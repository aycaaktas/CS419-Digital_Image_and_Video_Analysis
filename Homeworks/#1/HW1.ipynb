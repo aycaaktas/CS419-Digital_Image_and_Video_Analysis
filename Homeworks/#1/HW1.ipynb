{
  "nbformat": 4,
  "nbformat_minor": 0,
  "metadata": {
    "colab": {
      "provenance": []
    },
    "kernelspec": {
      "name": "python3",
      "display_name": "Python 3"
    },
    "language_info": {
      "name": "python"
    }
  },
  "cells": [
    {
      "cell_type": "markdown",
      "source": [
        "  Four structuring elements (B1, B2, B3, B4) and a background element (Bg) are defined. Structuring elements are small matrices that are used in morphological operations to analyze and manipulate the shapes and structures within an image. These elements will be employed to iteratively shape the binary image to reveal its convex hull. The binary image represents an object or a set of objects in the form of pixels, where 1 indicates the presence of an object, and 0 indicates its absence. The convex hull is the smallest convex shape that completely encloses the object(s). The process begins by designing the necessary functions that will be utilized by the convex_hull function, such as hit-or-miss function, thickening, union, intersect operations. Also the erosion function that will be used by ‘hit-or-miss’ operation is implemented. These operations use the defined structuring elements (B1, B2, B3, B4, Bg) to iteratively modify the binary image, highlighting convex features. The result is a binary image representing the convex hull.\n",
        "\n",
        "\n",
        "\n",
        "\n",
        "\n",
        "\n",
        "\n"
      ],
      "metadata": {
        "id": "gXjJRKI8Lz5J"
      }
    },
    {
      "cell_type": "code",
      "source": [
        "# Upload the image to Colab\n",
        "\n",
        "from google.colab import files\n",
        "uploaded = files.upload()\n"
      ],
      "metadata": {
        "colab": {
          "base_uri": "https://localhost:8080/",
          "height": 74
        },
        "id": "S3KPOnT-5Gqh",
        "outputId": "f3ab68dd-9a6e-4119-ac26-f9e4665ebb8f"
      },
      "execution_count": 2,
      "outputs": [
        {
          "output_type": "display_data",
          "data": {
            "text/plain": [
              "<IPython.core.display.HTML object>"
            ],
            "text/html": [
              "\n",
              "     <input type=\"file\" id=\"files-f182a900-b8ea-49e2-aeaf-441712dacfe4\" name=\"files[]\" multiple disabled\n",
              "        style=\"border:none\" />\n",
              "     <output id=\"result-f182a900-b8ea-49e2-aeaf-441712dacfe4\">\n",
              "      Upload widget is only available when the cell has been executed in the\n",
              "      current browser session. Please rerun this cell to enable.\n",
              "      </output>\n",
              "      <script>// Copyright 2017 Google LLC\n",
              "//\n",
              "// Licensed under the Apache License, Version 2.0 (the \"License\");\n",
              "// you may not use this file except in compliance with the License.\n",
              "// You may obtain a copy of the License at\n",
              "//\n",
              "//      http://www.apache.org/licenses/LICENSE-2.0\n",
              "//\n",
              "// Unless required by applicable law or agreed to in writing, software\n",
              "// distributed under the License is distributed on an \"AS IS\" BASIS,\n",
              "// WITHOUT WARRANTIES OR CONDITIONS OF ANY KIND, either express or implied.\n",
              "// See the License for the specific language governing permissions and\n",
              "// limitations under the License.\n",
              "\n",
              "/**\n",
              " * @fileoverview Helpers for google.colab Python module.\n",
              " */\n",
              "(function(scope) {\n",
              "function span(text, styleAttributes = {}) {\n",
              "  const element = document.createElement('span');\n",
              "  element.textContent = text;\n",
              "  for (const key of Object.keys(styleAttributes)) {\n",
              "    element.style[key] = styleAttributes[key];\n",
              "  }\n",
              "  return element;\n",
              "}\n",
              "\n",
              "// Max number of bytes which will be uploaded at a time.\n",
              "const MAX_PAYLOAD_SIZE = 100 * 1024;\n",
              "\n",
              "function _uploadFiles(inputId, outputId) {\n",
              "  const steps = uploadFilesStep(inputId, outputId);\n",
              "  const outputElement = document.getElementById(outputId);\n",
              "  // Cache steps on the outputElement to make it available for the next call\n",
              "  // to uploadFilesContinue from Python.\n",
              "  outputElement.steps = steps;\n",
              "\n",
              "  return _uploadFilesContinue(outputId);\n",
              "}\n",
              "\n",
              "// This is roughly an async generator (not supported in the browser yet),\n",
              "// where there are multiple asynchronous steps and the Python side is going\n",
              "// to poll for completion of each step.\n",
              "// This uses a Promise to block the python side on completion of each step,\n",
              "// then passes the result of the previous step as the input to the next step.\n",
              "function _uploadFilesContinue(outputId) {\n",
              "  const outputElement = document.getElementById(outputId);\n",
              "  const steps = outputElement.steps;\n",
              "\n",
              "  const next = steps.next(outputElement.lastPromiseValue);\n",
              "  return Promise.resolve(next.value.promise).then((value) => {\n",
              "    // Cache the last promise value to make it available to the next\n",
              "    // step of the generator.\n",
              "    outputElement.lastPromiseValue = value;\n",
              "    return next.value.response;\n",
              "  });\n",
              "}\n",
              "\n",
              "/**\n",
              " * Generator function which is called between each async step of the upload\n",
              " * process.\n",
              " * @param {string} inputId Element ID of the input file picker element.\n",
              " * @param {string} outputId Element ID of the output display.\n",
              " * @return {!Iterable<!Object>} Iterable of next steps.\n",
              " */\n",
              "function* uploadFilesStep(inputId, outputId) {\n",
              "  const inputElement = document.getElementById(inputId);\n",
              "  inputElement.disabled = false;\n",
              "\n",
              "  const outputElement = document.getElementById(outputId);\n",
              "  outputElement.innerHTML = '';\n",
              "\n",
              "  const pickedPromise = new Promise((resolve) => {\n",
              "    inputElement.addEventListener('change', (e) => {\n",
              "      resolve(e.target.files);\n",
              "    });\n",
              "  });\n",
              "\n",
              "  const cancel = document.createElement('button');\n",
              "  inputElement.parentElement.appendChild(cancel);\n",
              "  cancel.textContent = 'Cancel upload';\n",
              "  const cancelPromise = new Promise((resolve) => {\n",
              "    cancel.onclick = () => {\n",
              "      resolve(null);\n",
              "    };\n",
              "  });\n",
              "\n",
              "  // Wait for the user to pick the files.\n",
              "  const files = yield {\n",
              "    promise: Promise.race([pickedPromise, cancelPromise]),\n",
              "    response: {\n",
              "      action: 'starting',\n",
              "    }\n",
              "  };\n",
              "\n",
              "  cancel.remove();\n",
              "\n",
              "  // Disable the input element since further picks are not allowed.\n",
              "  inputElement.disabled = true;\n",
              "\n",
              "  if (!files) {\n",
              "    return {\n",
              "      response: {\n",
              "        action: 'complete',\n",
              "      }\n",
              "    };\n",
              "  }\n",
              "\n",
              "  for (const file of files) {\n",
              "    const li = document.createElement('li');\n",
              "    li.append(span(file.name, {fontWeight: 'bold'}));\n",
              "    li.append(span(\n",
              "        `(${file.type || 'n/a'}) - ${file.size} bytes, ` +\n",
              "        `last modified: ${\n",
              "            file.lastModifiedDate ? file.lastModifiedDate.toLocaleDateString() :\n",
              "                                    'n/a'} - `));\n",
              "    const percent = span('0% done');\n",
              "    li.appendChild(percent);\n",
              "\n",
              "    outputElement.appendChild(li);\n",
              "\n",
              "    const fileDataPromise = new Promise((resolve) => {\n",
              "      const reader = new FileReader();\n",
              "      reader.onload = (e) => {\n",
              "        resolve(e.target.result);\n",
              "      };\n",
              "      reader.readAsArrayBuffer(file);\n",
              "    });\n",
              "    // Wait for the data to be ready.\n",
              "    let fileData = yield {\n",
              "      promise: fileDataPromise,\n",
              "      response: {\n",
              "        action: 'continue',\n",
              "      }\n",
              "    };\n",
              "\n",
              "    // Use a chunked sending to avoid message size limits. See b/62115660.\n",
              "    let position = 0;\n",
              "    do {\n",
              "      const length = Math.min(fileData.byteLength - position, MAX_PAYLOAD_SIZE);\n",
              "      const chunk = new Uint8Array(fileData, position, length);\n",
              "      position += length;\n",
              "\n",
              "      const base64 = btoa(String.fromCharCode.apply(null, chunk));\n",
              "      yield {\n",
              "        response: {\n",
              "          action: 'append',\n",
              "          file: file.name,\n",
              "          data: base64,\n",
              "        },\n",
              "      };\n",
              "\n",
              "      let percentDone = fileData.byteLength === 0 ?\n",
              "          100 :\n",
              "          Math.round((position / fileData.byteLength) * 100);\n",
              "      percent.textContent = `${percentDone}% done`;\n",
              "\n",
              "    } while (position < fileData.byteLength);\n",
              "  }\n",
              "\n",
              "  // All done.\n",
              "  yield {\n",
              "    response: {\n",
              "      action: 'complete',\n",
              "    }\n",
              "  };\n",
              "}\n",
              "\n",
              "scope.google = scope.google || {};\n",
              "scope.google.colab = scope.google.colab || {};\n",
              "scope.google.colab._files = {\n",
              "  _uploadFiles,\n",
              "  _uploadFilesContinue,\n",
              "};\n",
              "})(self);\n",
              "</script> "
            ]
          },
          "metadata": {}
        },
        {
          "output_type": "stream",
          "name": "stdout",
          "text": [
            "Saving perfectly_painted_cat.png to perfectly_painted_cat.png\n"
          ]
        }
      ]
    },
    {
      "cell_type": "code",
      "source": [
        "import cv2\n",
        "import numpy as np\n",
        "from google.colab.patches import cv2_imshow\n",
        "%matplotlib inline\n",
        "from matplotlib import pyplot as plt\n",
        "import pylab"
      ],
      "metadata": {
        "id": "GeLn_VoWZWYs"
      },
      "execution_count": 3,
      "outputs": []
    },
    {
      "cell_type": "code",
      "execution_count": 4,
      "metadata": {
        "colab": {
          "base_uri": "https://localhost:8080/",
          "height": 424
        },
        "id": "0e60IGTm2y0l",
        "outputId": "a4b8de15-db71-4688-dc0a-4fd9e3a00e76"
      },
      "outputs": [
        {
          "output_type": "stream",
          "name": "stdout",
          "text": [
            "Image height= 400 px, and width= 400 px and data type: uint8\n"
          ]
        },
        {
          "output_type": "display_data",
          "data": {
            "text/plain": [
              "<Figure size 640x480 with 1 Axes>"
            ],
            "image/png": "[encoded data removed]"
          },
          "metadata": {}
        }
      ],
      "source": [
        "# Read the image in grayscale mode using OpenCV library\n",
        "input = cv2.imread('perfectly_painted_cat.png', cv2.IMREAD_GRAYSCALE)\n",
        "\n",
        "# Get the height and width of the image\n",
        "height, width = input.shape\n",
        "\n",
        "# Apply thresholding to create a binary image\n",
        "_, image = cv2.threshold(input, 128, 1, cv2.THRESH_BINARY)\n",
        "\n",
        "# Print information about the image\n",
        "print(\"Image height=\", height, \"px, and width=\", width, \"px and data type:\", image.dtype)\n",
        "\n",
        "# Display the binary image using Matplotlib\n",
        "plt.imshow(image,'gray')\n",
        "plt.axis('off')\n",
        "plt.show()"
      ]
    },
    {
      "cell_type": "code",
      "source": [
        "# Define 4 3x3 binary matrixes that will be used as SE and 1 matrix that represents background\n",
        "\n",
        "B1 = np.array([[1, 0, 0],\n",
        "              [1, 0, 0],\n",
        "              [1, 0, 0]])\n",
        "\n",
        "B2 = np.array([[1, 1, 1],\n",
        "              [0, 0, 0],\n",
        "              [0, 0, 0]])\n",
        "\n",
        "B3 = np.array([[0, 0, 1],\n",
        "              [0, 0, 1],\n",
        "              [0, 0, 1]])\n",
        "\n",
        "B4 = np.array([[0, 0, 0],\n",
        "              [0, 0, 0],\n",
        "              [1, 1, 1]])\n",
        "\n",
        "Bg = np.array([[0,0,0],\n",
        "              [0,1,0],\n",
        "              [0,0,0]])\n",
        ""
      ],
      "metadata": {
        "id": "SkBn7K0nxKRw"
      },
      "execution_count": 6,
      "outputs": []
    },
    {
      "cell_type": "code",
      "source": [
        "def erosion(image, se):\n",
        "  # Create an array of zeros with the same shape as the input image\n",
        "  result = np.zeros_like(image)\n",
        "\n",
        "  # Get the number of rows and columns in the structuring element (se)\n",
        "  se_rows, se_cols = se.shape\n",
        "\n",
        "  # Get the number of rows and columns in the input image\n",
        "  img_rows, img_cols = image.shape\n",
        "\n",
        "  # Iterate the SE over the input image\n",
        "  for row in range(img_rows - se_rows + 1):\n",
        "      for col in range(img_cols - se_cols + 1):\n",
        "\n",
        "        # Extract the region of interest from the input image\n",
        "          region = image[row:row + se_rows, col:col + se_cols]\n",
        "\n",
        "          # Check if the structuring element matches the region\n",
        "          if np.all(region[se == 1]):\n",
        "            # If all elements in the region where the structuring element is 1 are 1,\n",
        "            # set the central pixel in the result image to 1\n",
        "            result[row + se_rows // 2, col + se_cols // 2] = 1\n",
        "\n",
        "  # Return the result of erosion\n",
        "  return result\n",
        "\n"
      ],
      "metadata": {
        "id": "ZrhnrQIOfSMA"
      },
      "execution_count": 7,
      "outputs": []
    },
    {
      "cell_type": "code",
      "source": [
        "def hit_or_miss(image, Bi, Bg):\n",
        "  # Perform erosion on the input image with structuring element Bi\n",
        "    erosion_bi = erosion(image,Bi)\n",
        "\n",
        "    # Perform erosion on the complement of the input image with structuring element Bg\n",
        "    erosion_bg = erosion(~image,Bg)\n",
        "\n",
        "    # Use logical AND to combine the results of the two erosions\n",
        "    result = np.logical_and(erosion_bi.astype(bool), erosion_bg.astype(bool)).astype(int)\n",
        "\n",
        "    # Return the result of the hit-or-miss operation\n",
        "    return result"
      ],
      "metadata": {
        "id": "e3CHF4llcUpr"
      },
      "execution_count": 8,
      "outputs": []
    },
    {
      "cell_type": "code",
      "source": [
        "def thickening(hitmissresult, image):\n",
        "  # Use logical OR to combine the hit-or-miss result and the original image\n",
        "    result = np.logical_or(hitmissresult.astype(bool), image.astype(bool)).astype(int)\n",
        "\n",
        "    # Return the result of thickening\n",
        "    return result\n",
        "\n"
      ],
      "metadata": {
        "id": "fZBYE_bjrkim"
      },
      "execution_count": 9,
      "outputs": []
    },
    {
      "cell_type": "code",
      "source": [
        "def union(image1, image2):\n",
        "  # Use logical OR to combine the two input images\n",
        "    result = np.logical_or(image1.astype(bool), image2.astype(bool)).astype(int)\n",
        "\n",
        "    # Return the result of the union operation\n",
        "    return result\n"
      ],
      "metadata": {
        "id": "a3N61_ZBzq_C"
      },
      "execution_count": 10,
      "outputs": []
    },
    {
      "cell_type": "code",
      "source": [
        "def intersection(image1, image2):\n",
        "   #Use logical AND to find the common pixels between the two input images\n",
        "    result = np.logical_and(image1.astype(bool), image2.astype(bool)).astype(int)\n",
        "\n",
        "    # Return the result of the intersection operation\n",
        "    return result\n",
        "\n"
      ],
      "metadata": {
        "id": "0xA2mDTj0oyg"
      },
      "execution_count": 11,
      "outputs": []
    },
    {
      "cell_type": "code",
      "source": [
        "def convex_loop(image,Bi,Bg):\n",
        "    # Initialize hit-or-miss result using the input image\n",
        "    hitmissresult = hit_or_miss(image,Bi,Bg)\n",
        "\n",
        "    # Initialize thickening using the hit-or-miss result and the original image\n",
        "    bi_thickening = thickening(image, hitmissresult)\n",
        "\n",
        "    # Save a copy of the image before thickening for comparison in the loop\n",
        "    old_bi_thickening = image\n",
        "\n",
        "    # Iterate until the thickening result no longer changes\n",
        "    while not np.array_equal(old_bi_thickening, bi_thickening):\n",
        "        # Update the before thickening  field\n",
        "        old_bi_thickening = np.copy(bi_thickening)\n",
        "\n",
        "        # Perform hit-or-miss on the current thickening result\n",
        "        hitmissresult = hit_or_miss(bi_thickening, Bi, Bg)\n",
        "\n",
        "        # Update thickening using the new hit-or-miss result\n",
        "        bi_thickening = thickening(bi_thickening, hitmissresult)\n",
        "\n",
        "    # Return the final convex hull obtained through iteration\n",
        "    return bi_thickening\n",
        "\n",
        "\n"
      ],
      "metadata": {
        "id": "g0SwMvmnUAIT"
      },
      "execution_count": 12,
      "outputs": []
    },
    {
      "cell_type": "code",
      "source": [
        "def convex_hull(image,B1,B2,B3,B4,Bg):\n",
        "\n",
        "    # Compute thickening using convex_loop for each structuring element\n",
        "    b1_thickening_image=convex_loop(image,B1,Bg)\n",
        "    b2_thickening_image=convex_loop(image,B2,Bg)\n",
        "    b3_thickening_image=convex_loop(image,B3,Bg)\n",
        "    b4_thickening_image=convex_loop(image,B4,Bg)\n",
        "\n",
        "    # Combine the thickening results using union operations\n",
        "    union1 = union(b1_thickening_image, b2_thickening_image)\n",
        "    union2 = union(b3_thickening_image, b4_thickening_image)\n",
        "    union3 = union(union1, union2)\n",
        "\n",
        "    # Find the bounding box of the original binary image\n",
        "    minrow, maxrow = float('inf'), 0\n",
        "    mincol, maxcol = float('inf'), 0\n",
        "\n",
        "    # Create a temporary array to store the bounding box\n",
        "    temp= np.zeros(image.shape)\n",
        "\n",
        "     # Iterate over each pixel in the original binary image\n",
        "    for row in range(image.shape[0]):\n",
        "        for col in range(image.shape[1]):\n",
        "          # If the pixel is part of the object (value is 1)\n",
        "            if image[row, col] == 1:\n",
        "                minrow = min(minrow, row)\n",
        "                maxrow = max(maxrow, row)\n",
        "                mincol = min(mincol, col)\n",
        "                maxcol = max(maxcol, col)\n",
        "\n",
        "    # Set the pixels inside the bounding box to 1 in the temporary array\n",
        "    temp[minrow:maxrow+1, mincol:maxcol+1] = 1\n",
        "\n",
        "    # Compute the intersection of the unioned thickening result and the bounding box\n",
        "    result = intersection(union3, temp)\n",
        "    return result\n",
        ""
      ],
      "metadata": {
        "id": "hZtj7tWNXgoZ"
      },
      "execution_count": 13,
      "outputs": []
    },
    {
      "cell_type": "code",
      "source": [
        "# Obtain the convex hull of the input binary image using specific structuring elements\n",
        "final_image=convex_hull(image,B1,B2,B3,B4,Bg)\n",
        "# Display the resulting convex hull using Matplotlib\n",
        "plt.imshow(final_image, cmap='gray')\n",
        "plt.axis('off')\n",
        "plt.show()"
      ],
      "metadata": {
        "colab": {
          "base_uri": "https://localhost:8080/",
          "height": 406
        },
        "id": "35IfQkDL1AWN",
        "outputId": "cc4d19f8-7666-417a-f5c6-6de29402ebb6"
      },
      "execution_count": 14,
      "outputs": [
        {
          "output_type": "display_data",
          "data": {
            "text/plain": [
              "<Figure size 640x480 with 1 Axes>"
            ],
            "image/png": "[encoded data removed]"
          },
          "metadata": {}
        }
      ]
    }
  ]
}